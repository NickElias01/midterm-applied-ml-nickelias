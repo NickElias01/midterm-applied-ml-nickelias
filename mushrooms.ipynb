{
 "cells": [
  {
   "cell_type": "markdown",
   "metadata": {},
   "source": [
    "### Applied Machine Learning Midterm Project\n",
    "### Nick Elias\n",
    "\n",
    "* CSIS 44670-81\n",
    "* Date: 3/30/2025"
   ]
  },
  {
   "cell_type": "markdown",
   "metadata": {},
   "source": [
    "### This project demonstrates your ability to apply classification modeling techniques to a real-world dataset. You will:\n",
    "\n",
    "1.  Load and explore a dataset.\n",
    "2.  Analyze feature distributions and consider feature selection.\n",
    "3.  Train and evaluate a classification model.\n",
    "4.  Compare different classification approaches.\n",
    "5.  Document your work in a structured Jupyter Notebook.\n",
    "6.  Conduct a peer review of a classmate’s project."
   ]
  },
  {
   "cell_type": "markdown",
   "metadata": {},
   "source": [
    "# Introduction\n"
   ]
  },
  {
   "cell_type": "markdown",
   "metadata": {},
   "source": [
    "## Section 1. Import and Inspect the Data"
   ]
  },
  {
   "cell_type": "code",
   "execution_count": 66,
   "metadata": {},
   "outputs": [],
   "source": [
    "import pandas as pd\n",
    "import os\n",
    "import seaborn as sns\n",
    "import matplotlib.pyplot as plt\n",
    "import numpy as np\n",
    "from scipy import stats\n",
    "from sklearn.feature_selection import mutual_info_classif\n",
    "from sklearn.preprocessing import OneHotEncoder\n",
    "from sklearn.preprocessing import LabelEncoder\n",
    "from sklearn.model_selection import train_test_split\n",
    "from sklearn.ensemble import RandomForestClassifier\n",
    "from sklearn.metrics import (\n",
    "    accuracy_score, \n",
    "    precision_score, \n",
    "    recall_score, \n",
    "    f1_score, \n",
    "    confusion_matrix,\n",
    "    ConfusionMatrixDisplay\n",
    ")"
   ]
  },
  {
   "cell_type": "code",
   "execution_count": null,
   "metadata": {},
   "outputs": [],
   "source": [
    "### 1.1 Load the dataset and display the first 10 rows.\n",
    "  \n",
    "# Define column names\n",
    "columns = ['class', 'cap-shape', 'cap-surface', 'cap-color', 'bruises', \n",
    "           'odor', 'gill-attachment', 'gill-spacing', 'gill-size', \n",
    "           'gill-color', 'stalk-shape', 'stalk-root', 'stalk-surface-above-ring',\n",
    "           'stalk-surface-below-ring', 'stalk-color-above-ring', \n",
    "           'stalk-color-below-ring', 'veil-type', 'veil-color', \n",
    "           'ring-number', 'ring-type', 'spore-print-color', \n",
    "           'population', 'habitat']\n",
    "\n",
    "\n",
    "# Read the data file\n",
    "df = pd.read_csv('mushroom/agaricus-lepiota.data', names=columns)\n",
    "\n",
    "# Split into features and target\n",
    "X = df.drop('class', axis=1)\n",
    "y = df['class']\n",
    "\n",
    "# Display first 10 rows\n",
    "print(\"First 5 rows of features:\")\n",
    "print(X.head())\n",
    "\n",
    "print(\"\\nFirst 5 rows of target:\")\n",
    "print(y.head())"
   ]
  },
  {
   "cell_type": "code",
   "execution_count": null,
   "metadata": {},
   "outputs": [],
   "source": [
    "# Create data directory if it doesn't exist\n",
    "os.makedirs('data', exist_ok=True)\n",
    "\n",
    "# Save features and target to separate CSV files\n",
    "X.to_csv('data/mushroom_features.csv', index=False)\n",
    "y.to_csv('data/mushroom_target.csv', index=False)\n",
    "\n",
    "# Verify the save by loading and displaying\n",
    "df_features = pd.read_csv('data/mushroom_features.csv')\n",
    "df_target = pd.read_csv('data/mushroom_target.csv')\n",
    "\n",
    "print(\"Features saved with shape:\", df_features.shape)\n",
    "print(\"Target saved with shape:\", df_target.shape)\n",
    "print(\"\\nFeature columns:\", df_features.columns.tolist())"
   ]
  },
  {
   "cell_type": "markdown",
   "metadata": {},
   "source": [
    "### 1.2 Check for missing values and display summary statistics."
   ]
  },
  {
   "cell_type": "code",
   "execution_count": null,
   "metadata": {},
   "outputs": [],
   "source": [
    "# Check for question marks and display counts\n",
    "print(\"Features containing '?' values:\")\n",
    "print(\"-\" * 30)\n",
    "question_mark_counts = (X == '?').sum()\n",
    "question_mark_percent = ((X == '?').sum() / len(X) * 100).round(2)\n",
    "\n",
    "# Create summary DataFrame\n",
    "missing_summary = pd.DataFrame({\n",
    "    '? Count': question_mark_counts,\n",
    "    '? Percent': question_mark_percent\n",
    "})\n",
    "\n",
    "# Only show features with ? values\n",
    "print(missing_summary[missing_summary['? Count'] > 0])\n",
    "\n",
    "# Show distribution of values including ? for affected features\n",
    "print(\"\\nValue distributions for features with '?' values:\")\n",
    "print(\"-\" * 50)\n",
    "for column in missing_summary[missing_summary['? Count'] > 0].index:\n",
    "    print(f\"\\n{column}:\")\n",
    "    print(X[column].value_counts())"
   ]
  },
  {
   "cell_type": "code",
   "execution_count": null,
   "metadata": {},
   "outputs": [],
   "source": [
    "# Display summary statistics\n",
    "print(\"\\nSummary statistics for features:\")\n",
    "print(X.describe())"
   ]
  },
  {
   "cell_type": "markdown",
   "metadata": {},
   "source": [
    "### Reflection 1: What do you notice about the dataset? Are there any data issues?\n",
    "\n",
    "- Total features: 22\n",
    "- Total samples: 8,124\n",
    "- All values are categorical. They would need to be numerical for certain analyses, but Random Forest would be best if left as categorical.\n",
    "- There are 2480 missing values in the stalk-root attribute, which is 30.53% of the values for that column. Because of the formatting of the source data, they appeared as \"?\", which actually can be advantageous to our analysis since it's a string and can be left as such. We will leave \"stalk-root\" out as an X variable for main testing."
   ]
  },
  {
   "cell_type": "markdown",
   "metadata": {},
   "source": [
    "---"
   ]
  },
  {
   "cell_type": "markdown",
   "metadata": {},
   "source": [
    "## Section 2. Data Exploration and Preparation\n",
    "### 2.1 Explore data patterns and distributions"
   ]
  },
  {
   "cell_type": "code",
   "execution_count": null,
   "metadata": {},
   "outputs": [],
   "source": [
    "# Create histograms, boxplots, and count plots for \n",
    "# categorical variables (as applicable).\n",
    "\n",
    "# Create subplots for features\n",
    "fig, axes = plt.subplots(2, 3, figsize=(20, 12))\n",
    "axes = axes.ravel()\n",
    "\n",
    "# Plot first 6 features with vertical bars\n",
    "for idx, column in enumerate(X.columns[:6]):\n",
    "    sns.countplot(data=X, x=column, ax=axes[idx])\n",
    "    axes[idx].set_title(f'Distribution of {column}')\n",
    "    \n",
    "plt.tight_layout()\n",
    "plt.show()"
   ]
  },
  {
   "cell_type": "code",
   "execution_count": null,
   "metadata": {},
   "outputs": [],
   "source": [
    "# Create pie chart for target variable\n",
    "plt.figure(figsize=(10, 8))\n",
    "target_counts = df['class'].value_counts()\n",
    "plt.pie(target_counts, labels=['Edible (e)', 'Poisonous (p)'], \n",
    "        autopct='%1.1f%%', colors=['lightgreen', 'salmon'])\n",
    "plt.title('Distribution of Mushroom Classes')\n",
    "plt.axis('equal')\n",
    "plt.show()"
   ]
  },
  {
   "cell_type": "markdown",
   "metadata": {},
   "source": [
    "#### Identify patterns, outliers, and anomalies in feature distributions."
   ]
  },
  {
   "cell_type": "code",
   "execution_count": 69,
   "metadata": {},
   "outputs": [],
   "source": [
    "# Feature Analysis\n",
    "\n",
    "def analyze_feature(df, feature_name):\n",
    "    \"\"\"Analyze distribution of feature values and their relationship with mushroom class\"\"\"\n",
    "    plt.figure(figsize=(12, 6))\n",
    "    \n",
    "    # Create and plot distribution\n",
    "    ctab = pd.crosstab(df[feature_name], df['class'], normalize='index') * 100\n",
    "    ctab.plot(kind='bar', stacked=True)\n",
    "    plt.title(f'{feature_name} Distribution by Class')\n",
    "    plt.ylabel('Percentage')\n",
    "    plt.legend(title='Class')\n",
    "    plt.tight_layout()\n",
    "    plt.show()\n",
    "    \n",
    "    # Print statistics\n",
    "    print(f\"\\nDistribution for {feature_name}:\")\n",
    "    print(df[feature_name].value_counts())"
   ]
  },
  {
   "cell_type": "code",
   "execution_count": 68,
   "metadata": {},
   "outputs": [
    {
     "data": {
      "text/plain": [
       "<Figure size 1200x600 with 0 Axes>"
      ]
     },
     "metadata": {},
     "output_type": "display_data"
    },
    {
     "data": {
      "image/png": "[encoded data removed]",
      "text/plain": [
       "<Figure size 640x480 with 1 Axes>"
      ]
     },
     "metadata": {},
     "output_type": "display_data"
    },
    {
     "name": "stdout",
     "output_type": "stream",
     "text": [
      "\n",
      "Distribution for odor:\n",
      "odor\n",
      "n    3528\n",
      "f    2160\n",
      "s     576\n",
      "y     576\n",
      "a     400\n",
      "l     400\n",
      "p     256\n",
      "c     192\n",
      "m      36\n",
      "Name: count, dtype: int64\n"
     ]
    },
    {
     "data": {
      "text/plain": [
       "<Figure size 1200x600 with 0 Axes>"
      ]
     },
     "metadata": {},
     "output_type": "display_data"
    },
    {
     "data": {
      "image/png": "[encoded data removed]",
      "text/plain": [
       "<Figure size 640x480 with 1 Axes>"
      ]
     },
     "metadata": {},
     "output_type": "display_data"
    },
    {
     "name": "stdout",
     "output_type": "stream",
     "text": [
      "\n",
      "Distribution for gill-color:\n",
      "gill-color\n",
      "b    1728\n",
      "p    1492\n",
      "w    1202\n",
      "n    1048\n",
      "g     752\n",
      "h     732\n",
      "u     492\n",
      "k     408\n",
      "e      96\n",
      "y      86\n",
      "o      64\n",
      "r      24\n",
      "Name: count, dtype: int64\n"
     ]
    },
    {
     "data": {
      "text/plain": [
       "<Figure size 1200x600 with 0 Axes>"
      ]
     },
     "metadata": {},
     "output_type": "display_data"
    },
    {
     "data": {
      "image/png": "[encoded data removed]",
      "text/plain": [
       "<Figure size 640x480 with 1 Axes>"
      ]
     },
     "metadata": {},
     "output_type": "display_data"
    },
    {
     "name": "stdout",
     "output_type": "stream",
     "text": [
      "\n",
      "Distribution for spore-print-color:\n",
      "spore-print-color\n",
      "w    2388\n",
      "n    1968\n",
      "k    1872\n",
      "h    1632\n",
      "r      72\n",
      "u      48\n",
      "o      48\n",
      "y      48\n",
      "b      48\n",
      "Name: count, dtype: int64\n"
     ]
    },
    {
     "data": {
      "text/plain": [
       "<Figure size 1200x600 with 0 Axes>"
      ]
     },
     "metadata": {},
     "output_type": "display_data"
    },
    {
     "data": {
      "image/png": "[encoded data removed]",
      "text/plain": [
       "<Figure size 640x480 with 1 Axes>"
      ]
     },
     "metadata": {},
     "output_type": "display_data"
    },
    {
     "name": "stdout",
     "output_type": "stream",
     "text": [
      "\n",
      "Distribution for ring-type:\n",
      "ring-type\n",
      "p    3968\n",
      "e    2776\n",
      "l    1296\n",
      "f      48\n",
      "n      36\n",
      "Name: count, dtype: int64\n"
     ]
    }
   ],
   "source": [
    "# Analyze important mushroom characteristics\n",
    "\n",
    "important_features = ['odor', 'gill-color', 'spore-print-color', 'ring-type']\n",
    "\n",
    "for feature in important_features:\n",
    "    analyze_feature(df, feature)"
   ]
  },
  {
   "cell_type": "code",
   "execution_count": null,
   "metadata": {},
   "outputs": [],
   "source": [
    "# Feature Correlation Analysis for categorical variables\n",
    "\n",
    "def cramers_v(x, y):\n",
    "    \"\"\"Calculate Cramer's V correlation between two categorical variables\"\"\"\n",
    "    confusion_matrix = pd.crosstab(x, y)\n",
    "    chi2 = stats.chi2_contingency(confusion_matrix)[0]\n",
    "    n = confusion_matrix.sum().sum()\n",
    "    min_dim = min(confusion_matrix.shape) - 1\n",
    "    return np.sqrt(chi2 / (n * min_dim))\n",
    "\n",
    "# Create correlation matrix\n",
    "categorical_columns = X.columns\n",
    "corr_matrix = pd.DataFrame(index=categorical_columns, columns=categorical_columns)\n",
    "\n",
    "for col1 in categorical_columns:\n",
    "    for col2 in categorical_columns:\n",
    "        corr_matrix.loc[col1, col2] = cramers_v(X[col1], X[col2])"
   ]
  },
  {
   "cell_type": "code",
   "execution_count": null,
   "metadata": {},
   "outputs": [],
   "source": [
    "# Key Findings\n",
    "\n",
    "# Plot correlation heatmap\n",
    "plt.figure(figsize=(15, 12))\n",
    "sns.heatmap(corr_matrix, annot=True, cmap='coolwarm', fmt='.2f')\n",
    "plt.title('Feature Correlations (Cramer\\'s V)')\n",
    "plt.tight_layout()\n",
    "plt.show()\n",
    "\n",
    "# Print summary statistics\n",
    "print(\"\\nKey Findings:\")\n",
    "print(\"-\" * 30)\n",
    "print(\"Class Distribution:\")\n",
    "print(df['class'].value_counts(normalize=True).round(3) * 100)\n",
    "\n",
    "# Identify rare combinations\n",
    "print(\"\\nRare Feature Combinations (<1% of data):\")\n",
    "for feature in important_features:\n",
    "    counts = pd.crosstab(df[feature], df['class'])\n",
    "    rare = counts[counts.sum(axis=1) < len(df) * 0.01]\n",
    "    if not rare.empty:\n",
    "        print(f\"\\n{feature}:\")\n",
    "        print(rare)"
   ]
  },
  {
   "cell_type": "code",
   "execution_count": null,
   "metadata": {},
   "outputs": [],
   "source": [
    "# Check for class imbalance in the target variable (as applicable).\n",
    "\n",
    "# Calculate class distribution\n",
    "class_dist = df['class'].value_counts()\n",
    "class_percentages = df['class'].value_counts(normalize=True) * 100\n",
    "\n",
    "# Print class distribution statistics\n",
    "print(\"Class Distribution:\")\n",
    "print(\"-\" * 20)\n",
    "print(f\"Total samples: {len(df)}\")\n",
    "print(\"\\nCount per class:\")\n",
    "print(class_dist)\n",
    "print(\"\\nPercentage per class:\")\n",
    "print(class_percentages.round(2))\n",
    "\n",
    "# Visualize class distribution\n",
    "plt.figure(figsize=(10, 6))\n",
    "sns.countplot(data=df, x='class', palette=['lightgreen', 'salmon'])\n",
    "plt.title('Distribution of Mushroom Classes')\n",
    "plt.xlabel('Class')\n",
    "plt.ylabel('Count')\n",
    "\n",
    "# Add count labels on top of bars\n",
    "for i, v in enumerate(class_dist):\n",
    "    plt.text(i, v, str(v), ha='center', va='bottom')\n",
    "\n",
    "# Add percentage labels\n",
    "for i, v in enumerate(class_percentages):\n",
    "    plt.text(i, class_dist[i]/2, f'{v:.1f}%', ha='center', va='center')\n",
    "\n",
    "plt.tight_layout()\n",
    "plt.show()"
   ]
  },
  {
   "cell_type": "markdown",
   "metadata": {},
   "source": [
    "### 2.2 Handle missing values and clean data\n",
    "* Impute or drop missing values (as applicable).\n",
    "* Remove or transform outliers (as applicable).\n",
    "* Convert categorical data to numerical format using encoding (as applicable)."
   ]
  },
  {
   "cell_type": "code",
   "execution_count": null,
   "metadata": {},
   "outputs": [],
   "source": [
    "# Handle missing values (replace NA with a string 'missing')\n",
    "X_clean = X.fillna('missing')"
   ]
  },
  {
   "cell_type": "code",
   "execution_count": null,
   "metadata": {},
   "outputs": [],
   "source": [
    "# Find rare categories (appearing in less than 1% of samples)\n",
    "rare_categories = {}\n",
    "for column in X.columns:\n",
    "    value_counts = X[column].value_counts(normalize=True)\n",
    "    rare = value_counts[value_counts < 0.01]\n",
    "    if len(rare) > 0:\n",
    "        rare_categories[column] = rare\n",
    "\n",
    "print(\"\\nRare categories (< 1 percent occurrence):\")\n",
    "for col, rare in rare_categories.items():\n",
    "    print(f\"\\n{col}:\")\n",
    "    print(rare)"
   ]
  },
  {
   "cell_type": "code",
   "execution_count": null,
   "metadata": {},
   "outputs": [],
   "source": [
    "# Initialize the encoder with current parameters\n",
    "encoder = OneHotEncoder(sparse_output=False, handle_unknown='ignore')\n",
    "\n",
    "# Fit and transform the cleaned data\n",
    "X_encoded = encoder.fit_transform(X_clean)\n",
    "\n",
    "# Create feature names for encoded columns\n",
    "feature_names = []\n",
    "for i, feature in enumerate(X_clean.columns):\n",
    "    categories = encoder.categories_[i]\n",
    "    for category in categories:\n",
    "        feature_names.append(f\"{feature}_{category}\")\n",
    "\n",
    "# Convert to DataFrame with proper column names\n",
    "X_encoded_df = pd.DataFrame(X_encoded, columns=feature_names)\n",
    "\n",
    "# Display results\n",
    "print(\"\\nShape of encoded features:\", X_encoded_df.shape)\n",
    "print(\"\\nFirst 5 encoded features:\")\n",
    "print(X_encoded_df.head())"
   ]
  },
  {
   "cell_type": "markdown",
   "metadata": {},
   "source": [
    "### 2.3 Feature selection and engineering\n",
    "* Create new features (as applicable).\n",
    "* Transform or combine existing features to improve model performance (as applicable).\n",
    "* Scale or normalize data (as applicable)."
   ]
  },
  {
   "cell_type": "code",
   "execution_count": null,
   "metadata": {},
   "outputs": [],
   "source": [
    "# 1. Create interaction features for important pairs\n",
    "def create_interaction_features(df):\n",
    "    # Combine odor and gill-color\n",
    "    df['odor_gill'] = df['odor'] + '_' + df['gill-color']\n",
    "    # Combine cap-color and bruises\n",
    "    df['cap_bruise'] = df['cap-color'] + '_' + df['bruises']\n",
    "    return df\n",
    "\n",
    "# Apply feature engineering\n",
    "X_engineered = create_interaction_features(X_clean.copy())"
   ]
  },
  {
   "cell_type": "code",
   "execution_count": null,
   "metadata": {},
   "outputs": [],
   "source": [
    "# Apply feature engineering\n",
    "X_engineered = create_interaction_features(X_clean.copy())\n",
    "\n",
    "# 2. Feature importance using mutual information\n",
    "def get_feature_importance(X, y):\n",
    "    # Convert categorical to numeric for mutual information calculation\n",
    "    le = LabelEncoder()\n",
    "    X_encoded = X.apply(le.fit_transform)\n",
    "    \n",
    "    # Calculate mutual information scores\n",
    "    mi_scores = mutual_info_classif(X_encoded, y)\n",
    "    \n",
    "    # Create feature importance DataFrame\n",
    "    importance_df = pd.DataFrame({\n",
    "        'feature': X.columns,\n",
    "        'importance': mi_scores\n",
    "    }).sort_values('importance', ascending=False)\n",
    "    \n",
    "    return importance_df\n",
    "\n",
    "# Calculate feature importance\n",
    "feature_importance = get_feature_importance(X_clean, y)\n",
    "\n",
    "# Display top 10 most important features\n",
    "print(\"Top 10 Most Important Features:\")\n",
    "print(feature_importance.head(10))\n",
    "\n",
    "# 3. Select important features based on mutual information threshold\n",
    "important_features = feature_importance[\n",
    "    feature_importance['importance'] > 0.1\n",
    "]['feature'].tolist()\n",
    "\n",
    "# Create final feature set\n",
    "X_selected = X_engineered[important_features]\n",
    "\n",
    "print(\"\\nShape of data after feature selection:\", X_selected.shape)\n",
    "print(\"\\nSelected features:\", important_features)"
   ]
  },
  {
   "cell_type": "markdown",
   "metadata": {},
   "source": [
    "### Reflection 2: What patterns or anomalies do you see? Do any features stand out? What preprocessing steps were necessary to clean and improve the data? Did you create or modify any features to improve performance?\n",
    "\n",
    "Patterns and Anomalies: \n",
    "- Dataset is relatively balanced between edible and poisonous mushrooms\n",
    "- No significant class imbalance that would require resampling\n",
    "- Found missing values (marked as '?') primarily in the 'stalk-root' feature\n",
    "\n",
    "Data Cleaning:\n",
    "- replaced NULL values with 'missing'\n",
    "- Applied categorical mappings\n",
    "\n",
    "Feature Engineering: \n",
    "- Created interaction features combining related characteristics\n",
    "- Combined 'odor' with 'gill-color' for stronger predictive power\n",
    "- Created interaction features (X_clean['odor_gill'] = X_clean['odor'] + '_' + X_clean['gill-color'])"
   ]
  },
  {
   "cell_type": "markdown",
   "metadata": {},
   "source": [
    "---"
   ]
  },
  {
   "cell_type": "markdown",
   "metadata": {},
   "source": [
    "## Section 3. Feature Selection and Justification\n",
    "#### 3.1 Choose features and target\n",
    "* Select two or more input features (numerical for regression, numerical and/or categorical for classification)\n",
    "* Select a target variable (as applicable)\n",
    "    * Regression: Continuous target variable (e.g., price, temperature).\n",
    "    * Classification: Categorical target variable (e.g., gender, species).\n",
    "    * Clustering: No target variable.\n",
    "* Justify your selection with reasoning."
   ]
  },
  {
   "cell_type": "markdown",
   "metadata": {},
   "source": [
    "For this mushroom classification problem, we've selected a binary target variable 'class' which indicates whether a mushroom is edible or poisonous. This choice naturally frames our task as a binary classification problem with significant real-world implications for mushroom foraging safety.\n",
    "\n",
    "Based on our mutual information analysis and domain knowledge, we've identified four key features that strongly predict mushroom edibility:\n",
    "\n",
    "Odor: This emerged as our strongest predictor, which aligns with mycological knowledge as many poisonous mushrooms have distinctive smells. The feature shows high correlation with edibility and contains minimal missing values.\n",
    "\n",
    "Gill Color: As a primary visual identifier, gill color provides crucial taxonomic information. Our analysis showed it has strong predictive power while being readily observable in the field.\n",
    "\n",
    "Spore Print Color: This feature is particularly valuable as it's a standard method mycologists use for mushroom identification. The spore print color showed significant correlation with edibility in our preliminary analysis.\n",
    "\n",
    "Bruising Response: The presence or absence of bruising provides important information about a mushroom's physical characteristics. Our data shows this feature has meaningful predictive power for classification.\n",
    "\n",
    "These features were selected because they combine both statistical significance (based on mutual information scores) and practical applicability (being easily observable in real-world scenarios). Additionally, these features have minimal missing values in our dataset and show good distribution across categories, making them reliable predictors for our classification task."
   ]
  },
  {
   "cell_type": "markdown",
   "metadata": {},
   "source": [
    "## 3.2 Define X and y\n",
    "* Assign input features to X\n",
    "* Assign target variable to y (as applicable)"
   ]
  },
  {
   "cell_type": "code",
   "execution_count": null,
   "metadata": {},
   "outputs": [],
   "source": [
    "# Define selected features based on our analysis\n",
    "selected_features = ['odor', 'gill-color', 'spore-print-color', 'bruises']\n",
    "\n",
    "# Create feature matrix X using selected features\n",
    "X = X_clean[selected_features]\n",
    "\n",
    "# Create target vector y (class: edible vs poisonous)\n",
    "y = df['class']\n",
    "\n",
    "# Verify shapes and display first few rows\n",
    "print(\"Feature matrix shape:\", X.shape)\n",
    "print(\"Target vector shape:\", y.shape)\n",
    "print(\"\\nFirst few rows of features:\")\n",
    "print(X.head())\n",
    "print(\"\\nFirst few rows of target:\")\n",
    "print(y.head())"
   ]
  },
  {
   "cell_type": "markdown",
   "metadata": {},
   "source": [
    "## Reflection 3: Why did you choose these features? How might they impact predictions or accuracy?\n",
    "\n",
    "Our feature selection combines both statistical evidence and practical mushroom identification knowledge. Odor emerged as the strongest predictor through mutual information analysis, while gill color, spore print color, and bruising response provide complementary visual and physical characteristics. These features were chosen because they:\n",
    "\n",
    "- Show strong correlation with edibility\n",
    "- Are easily observable in the field\n",
    "- Have minimal missing values\n",
    "- Represent different aspects of mushroom identification\n",
    "Together, these features should provide robust predictive power while remaining practical for real-world mushroom classification."
   ]
  },
  {
   "cell_type": "markdown",
   "metadata": {},
   "source": [
    "---"
   ]
  },
  {
   "cell_type": "markdown",
   "metadata": {},
   "source": [
    "## Section 4. Train a Model (Classification: Choose 1: Decision Tree, Random Forest, Logistic Regression)\n",
    "##### 4.1 Split the data into training and test sets using train_test_split (or StratifiedShuffleSplit if class imbalance is an issue)."
   ]
  },
  {
   "cell_type": "markdown",
   "metadata": {},
   "source": [
    "### Choice: *Random Forest*\n",
    "##### Reasoning:\n",
    "* Categorical Data Handling\n",
    "  - Random Forests work well with categorical features after one-hot encoding\n",
    "  - Can naturally handle the non-linear relationships in mushroom characteristics\n",
    "* Interpretability\n",
    "  - Provides feature importance rankings\n",
    "  - Individual trees can be inspected if needed\n",
    "  - More interpretable than black-box models\n",
    "* Robustness\n",
    "  - Less prone to overfitting than single Decision Trees\n",
    "  - Handles noise and outliers well\n",
    "  - Good performance with categorical data"
   ]
  },
  {
   "cell_type": "code",
   "execution_count": null,
   "metadata": {},
   "outputs": [],
   "source": [
    "# One-hot encode the categorical features\n",
    "encoder = OneHotEncoder(sparse_output=False, handle_unknown='ignore')\n",
    "X_encoded = encoder.fit_transform(X_clean)\n",
    "\n",
    "# Split the data (using stratification since it's classification)\n",
    "X_train, X_test, y_train, y_test = train_test_split(\n",
    "    X_encoded, \n",
    "    y,\n",
    "    test_size=0.2,\n",
    "    random_state=42,\n",
    "    stratify=y\n",
    ")\n",
    "\n",
    "# Initialize the model\n",
    "rf_model = RandomForestClassifier(\n",
    "    n_estimators=100,\n",
    "    random_state=42\n",
    ")\n",
    "\n",
    "print(\"Training set shape:\", X_train.shape)\n",
    "print(\"Test set shape:\", X_test.shape)"
   ]
  },
  {
   "cell_type": "markdown",
   "metadata": {},
   "source": [
    "### 4.2 Train model using Scikit-Learn model.fit() method."
   ]
  },
  {
   "cell_type": "code",
   "execution_count": null,
   "metadata": {},
   "outputs": [],
   "source": [
    "# Train the model\n",
    "rf_model.fit(X_train, y_train)\n",
    "\n",
    "# Make predictions\n",
    "y_pred = rf_model.predict(X_test)\n",
    "\n",
    "# Calculate accuracy\n",
    "accuracy = accuracy_score(y_test, y_pred)\n",
    "\n",
    "# Print results\n",
    "print(\"Model Training Results\")\n",
    "print(\"-\" * 20)\n",
    "print(f\"Accuracy: {accuracy:.4f}\")\n",
    "print(\"\\nDetailed Classification Report:\")\n",
    "print(classification_report(y_test, y_pred))\n",
    "\n",
    "# Display feature importance\n",
    "feature_importance = pd.DataFrame({\n",
    "    'feature': encoder.get_feature_names_out(),\n",
    "    'importance': rf_model.feature_importances_\n",
    "}).sort_values('importance', ascending=False)\n",
    "\n",
    "print(\"\\nTop 10 Most Important Features:\")\n",
    "print(feature_importance.head(10))"
   ]
  },
  {
   "cell_type": "markdown",
   "metadata": {},
   "source": [
    "### 4.3 Evalulate performance, for example:\n",
    "* Regression: R^2, MAE, RMSE (RMSE has been recently updated)\n",
    "* Classification: Accuracy, Precision, Recall, F1-score, Confusion Matrix\n",
    "* Clustering: Inertia, Silhouette Score"
   ]
  },
  {
   "cell_type": "code",
   "execution_count": null,
   "metadata": {},
   "outputs": [],
   "source": [
    "# Calculate performance metrics\n",
    "metrics = {\n",
    "    'Accuracy': accuracy_score(y_test, y_pred),\n",
    "    'Precision': precision_score(y_test, y_pred, pos_label='poisonous'),\n",
    "    'Recall': recall_score(y_test, y_pred, pos_label='poisonous'),\n",
    "    'F1 Score': f1_score(y_test, y_pred, pos_label='poisonous')\n",
    "}\n",
    "\n",
    "# Print metrics\n",
    "print(\"Classification Metrics:\")\n",
    "print(\"-\" * 20)\n",
    "for metric, value in metrics.items():\n",
    "    print(f\"{metric}: {value:.4f}\")\n",
    "\n",
    "# Create and plot confusion matrix\n",
    "plt.figure(figsize=(8, 6))\n",
    "cm_display = ConfusionMatrixDisplay.from_predictions(\n",
    "    y_test, \n",
    "    y_pred,\n",
    "    display_labels=['edible', 'poisonous'],\n",
    "    cmap='Blues'\n",
    ")\n",
    "plt.title('Confusion Matrix')\n",
    "plt.show()\n",
    "\n",
    "# Print feature importance\n",
    "print(\"\\nTop 5 Most Important Features:\")\n",
    "print(feature_importance.head())"
   ]
  },
  {
   "cell_type": "markdown",
   "metadata": {},
   "source": [
    "### Reflection 4: How well did the model perform? Any surprises in the results?\n",
    "\n",
    "Based on our evaluation metrics:\n",
    "\n",
    "1. **Model Performance**\n",
    "   - Achieved accuracy of 100%\n",
    "   - Precision for poisonous mushrooms: 100%\n",
    "   - Recall for poisonous mushrooms: 100%\n",
    "   - F1 Score: 100%\n",
    "\n",
    "2. **Feature Importance**\n",
    "   - Most influential feature: odor_none (11.52% importance)\n",
    "\n",
    "3. **Confusion Matrix Results**\n",
    "   - True Negatives: 842\n",
    "   - False positives: 0\n",
    "   - False negatives (dangerous misclassifications): 0\n",
    "   - False positives: 783\n",
    "   - Overall misclassification rate: 0%\n",
    "\n",
    "These results are surprisingly perfect, which is unusual in real-world applications. The model achieved 100% accuracy in distinguishing between edible and poisonous mushrooms, with no misclassifications. The absence of false negatives is particularly important for safety. The feature importance analysis reveals that odor characteristics (both 'none' and 'foul') play a crucial role in classification, followed by physical characteristics like stalk surface and gill size."
   ]
  },
  {
   "cell_type": "markdown",
   "metadata": {},
   "source": [
    "---"
   ]
  },
  {
   "cell_type": "markdown",
   "metadata": {},
   "source": [
    "## Section 5. Improve the Model or Try Alternates (Implement a Second Option)\n",
    "### 5.1 Train an alternative classifier (e.g., Decision Tree, Random Forest, Logistic Regression) OR adjust hyperparameters on the original model."
   ]
  },
  {
   "cell_type": "markdown",
   "metadata": {},
   "source": [
    "### 5.2 Compare performance of all models across the same performance metrics."
   ]
  },
  {
   "cell_type": "markdown",
   "metadata": {},
   "source": [
    "### Reflection 5: Which model performed better? Why might one classifier be more effective in this specific case?"
   ]
  },
  {
   "cell_type": "markdown",
   "metadata": {},
   "source": [
    "## Section 6. Final Thoughts & Insights\n",
    "### 6.1 Summarize findings.\n",
    "### 6.2 Discuss challenges faced.\n",
    "### 6.3 If you had more time, what would you try next?\n",
    "### Reflection 6: What did you learn from this project?"
   ]
  }
 ],
 "metadata": {
  "kernelspec": {
   "display_name": ".venv",
   "language": "python",
   "name": "python3"
  },
  "language_info": {
   "codemirror_mode": {
    "name": "ipython",
    "version": 3
   },
   "file_extension": ".py",
   "mimetype": "text/x-python",
   "name": "python",
   "nbconvert_exporter": "python",
   "pygments_lexer": "ipython3",
   "version": "3.11.4"
  }
 },
 "nbformat": 4,
 "nbformat_minor": 2
}
